{
 "cells": [
  {
   "cell_type": "markdown",
   "metadata": {
    "colab_type": "text",
    "id": "view-in-github"
   },
   "source": [
    "<a href=\"https://colab.research.google.com/github/arshad-huh/Numpy-Module/blob/main/numpy_tricks.ipynb\" target=\"_parent\"><img src=\"https://colab.research.google.com/assets/colab-badge.svg\" alt=\"Open In Colab\"/></a>"
   ]
  },
  {
   "cell_type": "markdown",
   "metadata": {
    "id": "39-UcmoPggtI"
   },
   "source": [
    "### np.sort\n",
    "\n",
    "Return a sorted copy of an array.\n",
    "\n",
    "https://numpy.org/doc/stable/reference/generated/numpy.sort.html"
   ]
  },
  {
   "cell_type": "code",
   "execution_count": 1,
   "metadata": {
    "colab": {
     "base_uri": "https://localhost:8080/"
    },
    "id": "vJUzuaz7gqTr",
    "outputId": "bfc823a5-814c-442e-efcb-412f63a80a3f"
   },
   "outputs": [
    {
     "data": {
      "text/plain": [
       "array([54, 91,  5, 88, 90, 42, 81, 12, 96, 10,  1, 27, 53, 74, 24])"
      ]
     },
     "execution_count": 1,
     "metadata": {},
     "output_type": "execute_result"
    }
   ],
   "source": [
    "# code\n",
    "import numpy as np\n",
    "a = np.random.randint(1,100,15)\n",
    "a"
   ]
  },
  {
   "cell_type": "code",
   "execution_count": 2,
   "metadata": {
    "colab": {
     "base_uri": "https://localhost:8080/"
    },
    "id": "Dfer5zY9-HaK",
    "outputId": "49c20dd6-7a26-4dad-da52-fc8ae9c00458"
   },
   "outputs": [
    {
     "data": {
      "text/plain": [
       "array([[81, 15,  8, 66],\n",
       "       [46, 12, 56, 46],\n",
       "       [81, 85, 90, 57],\n",
       "       [48, 12, 10, 41],\n",
       "       [99, 32, 84, 68],\n",
       "       [ 4, 33, 71, 82]])"
      ]
     },
     "execution_count": 2,
     "metadata": {},
     "output_type": "execute_result"
    }
   ],
   "source": [
    "b = np.random.randint(1,100,24).reshape(6,4)\n",
    "b"
   ]
  },
  {
   "cell_type": "code",
   "execution_count": 3,
   "metadata": {
    "colab": {
     "base_uri": "https://localhost:8080/"
    },
    "id": "dyjeU-C6KznM",
    "outputId": "70354a58-06ee-4f5f-9c8f-7d1cfda2a4f8"
   },
   "outputs": [
    {
     "data": {
      "text/plain": [
       "array([96, 91, 90, 88, 81, 74, 54, 53, 42, 27, 24, 12, 10,  5,  1])"
      ]
     },
     "execution_count": 3,
     "metadata": {},
     "output_type": "execute_result"
    }
   ],
   "source": [
    "np.sort(a)[::-1]"
   ]
  },
  {
   "cell_type": "code",
   "execution_count": 4,
   "metadata": {
    "colab": {
     "base_uri": "https://localhost:8080/"
    },
    "id": "9fAdd5BWLHsq",
    "outputId": "a9c9ba92-a7fb-4a53-e630-e88b33a312f9"
   },
   "outputs": [
    {
     "data": {
      "text/plain": [
       "array([[ 4, 12,  8, 41],\n",
       "       [46, 12, 10, 46],\n",
       "       [48, 15, 56, 57],\n",
       "       [81, 32, 71, 66],\n",
       "       [81, 33, 84, 68],\n",
       "       [99, 85, 90, 82]])"
      ]
     },
     "execution_count": 4,
     "metadata": {},
     "output_type": "execute_result"
    }
   ],
   "source": [
    "np.sort(b,axis=0)"
   ]
  },
  {
   "cell_type": "markdown",
   "metadata": {
    "id": "W8tttorjgrVf"
   },
   "source": [
    "### np.append\n",
    "\n",
    "The numpy.append() appends values along the mentioned axis at the end of the array\n",
    "\n",
    "https://numpy.org/doc/stable/reference/generated/numpy.append.html"
   ]
  },
  {
   "cell_type": "code",
   "execution_count": 5,
   "metadata": {
    "colab": {
     "base_uri": "https://localhost:8080/"
    },
    "id": "Y3fHkR1gfd1X",
    "outputId": "4856ca1c-0cab-4d8a-f7a9-3929603904f5"
   },
   "outputs": [
    {
     "data": {
      "text/plain": [
       "array([ 54,  91,   5,  88,  90,  42,  81,  12,  96,  10,   1,  27,  53,\n",
       "        74,  24, 200])"
      ]
     },
     "execution_count": 5,
     "metadata": {},
     "output_type": "execute_result"
    }
   ],
   "source": [
    "# code\n",
    "np.append(a,200)"
   ]
  },
  {
   "cell_type": "code",
   "execution_count": null,
   "metadata": {
    "colab": {
     "base_uri": "https://localhost:8080/"
    },
    "id": "vmPc3zS3L2LL",
    "outputId": "7e90ac52-ae30-4325-b3b7-d526a9cdb4d3"
   },
   "outputs": [
    {
     "data": {
      "text/plain": [
       "array([[12, 52, 42,  6],\n",
       "       [29, 18, 47, 55],\n",
       "       [61, 93, 83,  9],\n",
       "       [38, 63, 44, 85],\n",
       "       [ 8, 87, 31, 72],\n",
       "       [40, 71,  2,  7]])"
      ]
     },
     "execution_count": 123,
     "metadata": {},
     "output_type": "execute_result"
    }
   ],
   "source": [
    "b"
   ]
  },
  {
   "cell_type": "code",
   "execution_count": null,
   "metadata": {
    "colab": {
     "base_uri": "https://localhost:8080/"
    },
    "id": "LsIvCKQ5L-DB",
    "outputId": "79a6a4f6-b7e1-44ae-8add-d94305396e0f"
   },
   "outputs": [
    {
     "data": {
      "text/plain": [
       "array([[12.        , 52.        , 42.        ,  6.        ,  0.22006275],\n",
       "       [29.        , 18.        , 47.        , 55.        ,  0.81740634],\n",
       "       [61.        , 93.        , 83.        ,  9.        ,  0.89146072],\n",
       "       [38.        , 63.        , 44.        , 85.        ,  0.84519124],\n",
       "       [ 8.        , 87.        , 31.        , 72.        ,  0.24007274],\n",
       "       [40.        , 71.        ,  2.        ,  7.        ,  0.48056374]])"
      ]
     },
     "execution_count": 126,
     "metadata": {},
     "output_type": "execute_result"
    }
   ],
   "source": [
    "np.append(b,np.random.random((b.shape[0],1)),axis=1)"
   ]
  },
  {
   "cell_type": "markdown",
   "metadata": {
    "id": "meIMn8T9g5-m"
   },
   "source": [
    "### np.concatenate\n",
    "\n",
    "numpy.concatenate() function concatenate a sequence of arrays along an existing axis.\n",
    "\n",
    "https://numpy.org/doc/stable/reference/generated/numpy.concatenate.html"
   ]
  },
  {
   "cell_type": "code",
   "execution_count": null,
   "metadata": {
    "colab": {
     "base_uri": "https://localhost:8080/"
    },
    "id": "Nrj1_QXfWZlV",
    "outputId": "5c60e20d-f4a2-40b8-e7ce-f0a5019225c8"
   },
   "outputs": [
    {
     "name": "stdout",
     "output_type": "stream",
     "text": [
      "[[0 1 2]\n",
      " [3 4 5]]\n",
      "[[ 6  7  8]\n",
      " [ 9 10 11]]\n"
     ]
    }
   ],
   "source": [
    "# code\n",
    "c = np.arange(6).reshape(2,3)\n",
    "d = np.arange(6,12).reshape(2,3)\n",
    "\n",
    "print(c)\n",
    "print(d)"
   ]
  },
  {
   "cell_type": "code",
   "execution_count": null,
   "metadata": {
    "colab": {
     "base_uri": "https://localhost:8080/"
    },
    "id": "fDHBrV7VA4yz",
    "outputId": "832c4406-2b60-4e17-faa0-5008e109eb95"
   },
   "outputs": [
    {
     "data": {
      "text/plain": [
       "array([[ 0,  1,  2],\n",
       "       [ 3,  4,  5],\n",
       "       [ 6,  7,  8],\n",
       "       [ 9, 10, 11]])"
      ]
     },
     "execution_count": 128,
     "metadata": {},
     "output_type": "execute_result"
    }
   ],
   "source": [
    "np.concatenate((c,d),axis=0)"
   ]
  },
  {
   "cell_type": "code",
   "execution_count": null,
   "metadata": {
    "colab": {
     "base_uri": "https://localhost:8080/"
    },
    "id": "GN9DnJ65Mr_b",
    "outputId": "6710e353-cd19-4376-8bd8-a38b7dbadc5a"
   },
   "outputs": [
    {
     "data": {
      "text/plain": [
       "array([[ 0,  1,  2,  6,  7,  8],\n",
       "       [ 3,  4,  5,  9, 10, 11]])"
      ]
     },
     "execution_count": 129,
     "metadata": {},
     "output_type": "execute_result"
    }
   ],
   "source": [
    "np.concatenate((c,d),axis=1)"
   ]
  },
  {
   "cell_type": "markdown",
   "metadata": {
    "id": "oHGFqHcohFtB"
   },
   "source": [
    "### np.unique\n",
    "\n",
    "With the help of np.unique() method, we can get the unique values from an array given as parameter in np.unique() method.\n",
    "\n",
    "https://numpy.org/doc/stable/reference/generated/numpy.unique.html/"
   ]
  },
  {
   "cell_type": "code",
   "execution_count": 6,
   "metadata": {
    "id": "NvG0KHpNWdN_"
   },
   "outputs": [],
   "source": [
    "# code\n",
    "e = np.array([1,1,2,2,3,3,4,4,5,5,6,6])"
   ]
  },
  {
   "cell_type": "code",
   "execution_count": 7,
   "metadata": {
    "colab": {
     "base_uri": "https://localhost:8080/"
    },
    "id": "XWr932XeCFz1",
    "outputId": "c71d7437-2225-4c59-8f38-afcfc2ea7b76"
   },
   "outputs": [
    {
     "data": {
      "text/plain": [
       "array([1, 2, 3, 4, 5, 6])"
      ]
     },
     "execution_count": 7,
     "metadata": {},
     "output_type": "execute_result"
    }
   ],
   "source": [
    "np.unique(e)"
   ]
  },
  {
   "cell_type": "markdown",
   "metadata": {
    "id": "Wki2yOXaEZV3"
   },
   "source": [
    "### np.expand_dims\n",
    "\n",
    "With the help of Numpy.expand_dims() method, we can get the expanded dimensions of an array\n",
    "\n",
    "https://numpy.org/doc/stable/reference/generated/numpy.expand_dims.html"
   ]
  },
  {
   "cell_type": "code",
   "execution_count": 8,
   "metadata": {
    "colab": {
     "base_uri": "https://localhost:8080/"
    },
    "id": "Pyvf-oZ0XTvr",
    "outputId": "2e2b40ad-7ad2-44d4-ef07-295d97082025"
   },
   "outputs": [
    {
     "data": {
      "text/plain": [
       "(15,)"
      ]
     },
     "execution_count": 8,
     "metadata": {},
     "output_type": "execute_result"
    }
   ],
   "source": [
    "# code\n",
    "a.shape"
   ]
  },
  {
   "cell_type": "code",
   "execution_count": null,
   "metadata": {
    "colab": {
     "base_uri": "https://localhost:8080/"
    },
    "id": "B-Pk9HNzNdrb",
    "outputId": "b7cd6597-410a-4016-ba3b-f5103d608db8"
   },
   "outputs": [
    {
     "data": {
      "text/plain": [
       "(1, 15)"
      ]
     },
     "execution_count": 135,
     "metadata": {},
     "output_type": "execute_result"
    }
   ],
   "source": [
    "np.expand_dims(a,axis=0).shape"
   ]
  },
  {
   "cell_type": "code",
   "execution_count": null,
   "metadata": {
    "colab": {
     "base_uri": "https://localhost:8080/"
    },
    "id": "5d0Ahp8QNsKO",
    "outputId": "14587e87-7f0f-4b9c-8df8-dd5500f21878"
   },
   "outputs": [
    {
     "data": {
      "text/plain": [
       "array([[11],\n",
       "       [53],\n",
       "       [28],\n",
       "       [50],\n",
       "       [38],\n",
       "       [37],\n",
       "       [94],\n",
       "       [92],\n",
       "       [ 5],\n",
       "       [30],\n",
       "       [68],\n",
       "       [ 9],\n",
       "       [78],\n",
       "       [ 2],\n",
       "       [21]])"
      ]
     },
     "execution_count": 137,
     "metadata": {},
     "output_type": "execute_result"
    }
   ],
   "source": [
    "np.expand_dims(a,axis=1)"
   ]
  },
  {
   "cell_type": "markdown",
   "metadata": {
    "id": "_HmpYNTFERjS"
   },
   "source": [
    "### np.where\n",
    "\n",
    "The numpy.where() function returns the indices of elements in an input array where the given condition is satisfied.\n",
    "\n",
    "np.where(condition, if true, if false)\n",
    "\n",
    "https://numpy.org/doc/stable/reference/generated/numpy.where.html"
   ]
  },
  {
   "cell_type": "code",
   "execution_count": 9,
   "metadata": {
    "colab": {
     "base_uri": "https://localhost:8080/"
    },
    "id": "H8k_ZDXjEo5W",
    "outputId": "0763b3f4-49cf-407b-b51d-73330db9aec7"
   },
   "outputs": [
    {
     "data": {
      "text/plain": [
       "array([54, 91,  5, 88, 90, 42, 81, 12, 96, 10,  1, 27, 53, 74, 24])"
      ]
     },
     "execution_count": 9,
     "metadata": {},
     "output_type": "execute_result"
    }
   ],
   "source": [
    "a"
   ]
  },
  {
   "cell_type": "code",
   "execution_count": 10,
   "metadata": {
    "colab": {
     "base_uri": "https://localhost:8080/"
    },
    "id": "n9mkvdFdHGLY",
    "outputId": "ea26edc7-dd18-4f77-92cc-df9c42473df0"
   },
   "outputs": [
    {
     "data": {
      "text/plain": [
       "(array([ 0,  1,  3,  4,  6,  8, 12, 13]),)"
      ]
     },
     "execution_count": 10,
     "metadata": {},
     "output_type": "execute_result"
    }
   ],
   "source": [
    "# find all indices with value greater than 50\n",
    "np.where(a>50)"
   ]
  },
  {
   "cell_type": "code",
   "execution_count": null,
   "metadata": {
    "colab": {
     "base_uri": "https://localhost:8080/"
    },
    "id": "zJAUufBOHcu1",
    "outputId": "dcd75885-d287-41f3-f5cd-5025518d0024"
   },
   "outputs": [
    {
     "data": {
      "text/plain": [
       "array([11,  0, 28, 50, 38, 37,  0,  0,  5, 30,  0,  9,  0,  2, 21])"
      ]
     },
     "execution_count": 140,
     "metadata": {},
     "output_type": "execute_result"
    }
   ],
   "source": [
    "# replace all values > 50 with 0\n",
    "np.where(a>50,0,a)"
   ]
  },
  {
   "cell_type": "code",
   "execution_count": null,
   "metadata": {
    "colab": {
     "base_uri": "https://localhost:8080/"
    },
    "id": "Ygx7fC0BPP9e",
    "outputId": "45b4df8d-de53-4f5d-8917-969ba8895b88"
   },
   "outputs": [
    {
     "data": {
      "text/plain": [
       "array([11, 53,  0,  0,  0, 37,  0,  0,  5,  0,  0,  9,  0,  0, 21])"
      ]
     },
     "execution_count": 141,
     "metadata": {},
     "output_type": "execute_result"
    }
   ],
   "source": [
    "np.where(a%2 == 0,0,a)"
   ]
  },
  {
   "cell_type": "markdown",
   "metadata": {
    "id": "jsGIGNtCIS5-"
   },
   "source": [
    "### np.argmax\n",
    "\n",
    "The numpy.argmax() function returns indices of the max element of the array in a particular axis.\n",
    "\n",
    "https://numpy.org/doc/stable/reference/generated/numpy.argmax.html"
   ]
  },
  {
   "cell_type": "code",
   "execution_count": 13,
   "metadata": {
    "colab": {
     "base_uri": "https://localhost:8080/"
    },
    "id": "8YlXmMuaIRpj",
    "outputId": "bc5573ad-6f90-488f-a92a-bce3ca60592d"
   },
   "outputs": [
    {
     "data": {
      "text/plain": [
       "array([54, 91,  5, 88, 90, 42, 81, 12, 96, 10,  1, 27, 53, 74, 24])"
      ]
     },
     "execution_count": 13,
     "metadata": {},
     "output_type": "execute_result"
    }
   ],
   "source": [
    "# code\n",
    "a"
   ]
  },
  {
   "cell_type": "code",
   "execution_count": 14,
   "metadata": {
    "colab": {
     "base_uri": "https://localhost:8080/"
    },
    "id": "gdrU6cQ9Pn_A",
    "outputId": "42d3f174-555a-43d3-c33c-d211619f481b"
   },
   "outputs": [
    {
     "data": {
      "text/plain": [
       "8"
      ]
     },
     "execution_count": 14,
     "metadata": {},
     "output_type": "execute_result"
    }
   ],
   "source": [
    "np.argmax(a)"
   ]
  },
  {
   "cell_type": "code",
   "execution_count": 15,
   "metadata": {
    "colab": {
     "base_uri": "https://localhost:8080/"
    },
    "id": "CohggNGrP5am",
    "outputId": "8528abd9-e431-4669-e519-5037578f4fdf"
   },
   "outputs": [
    {
     "data": {
      "text/plain": [
       "array([[81, 15,  8, 66],\n",
       "       [46, 12, 56, 46],\n",
       "       [81, 85, 90, 57],\n",
       "       [48, 12, 10, 41],\n",
       "       [99, 32, 84, 68],\n",
       "       [ 4, 33, 71, 82]])"
      ]
     },
     "execution_count": 15,
     "metadata": {},
     "output_type": "execute_result"
    }
   ],
   "source": [
    "b"
   ]
  },
  {
   "cell_type": "code",
   "execution_count": 16,
   "metadata": {
    "colab": {
     "base_uri": "https://localhost:8080/"
    },
    "id": "435CD24aIpNA",
    "outputId": "5d5e329a-ad3e-40a7-990a-52a545a8ad3c"
   },
   "outputs": [
    {
     "data": {
      "text/plain": [
       "array([4, 2, 2, 5])"
      ]
     },
     "execution_count": 16,
     "metadata": {},
     "output_type": "execute_result"
    }
   ],
   "source": [
    "np.argmax(b,axis=0)"
   ]
  },
  {
   "cell_type": "code",
   "execution_count": null,
   "metadata": {
    "colab": {
     "base_uri": "https://localhost:8080/"
    },
    "id": "PBuZH3mbQE1U",
    "outputId": "1f76fb63-e7d8-4593-de4c-1282c2ca8c9c"
   },
   "outputs": [
    {
     "data": {
      "text/plain": [
       "array([1, 3, 1, 3, 1, 1])"
      ]
     },
     "execution_count": 146,
     "metadata": {},
     "output_type": "execute_result"
    }
   ],
   "source": [
    "np.argmax(b,axis=1)"
   ]
  },
  {
   "cell_type": "code",
   "execution_count": null,
   "metadata": {
    "colab": {
     "base_uri": "https://localhost:8080/"
    },
    "id": "T9TrLGNBWjV1",
    "outputId": "fa3cbdae-82e3-4c10-fa10-4dfb654b3263"
   },
   "outputs": [
    {
     "data": {
      "text/plain": [
       "13"
      ]
     },
     "execution_count": 148,
     "metadata": {},
     "output_type": "execute_result"
    }
   ],
   "source": [
    "# np.argmin\n",
    "np.argmin(a)"
   ]
  },
  {
   "cell_type": "markdown",
   "metadata": {
    "id": "1OdKi27pa091"
   },
   "source": [
    "### np.cumsum\n",
    "\n",
    "numpy.cumsum() function is used when we want to compute the cumulative sum of array elements over a given axis.\n",
    "\n",
    "https://numpy.org/doc/stable/reference/generated/numpy.cumsum.html"
   ]
  },
  {
   "cell_type": "code",
   "execution_count": null,
   "metadata": {
    "colab": {
     "base_uri": "https://localhost:8080/"
    },
    "id": "VZmQUWH9bDk_",
    "outputId": "5555c8b5-2b7a-494b-c118-ad97bc253e3c"
   },
   "outputs": [
    {
     "data": {
      "text/plain": [
       "array([11, 53, 28, 50, 38, 37, 94, 92,  5, 30, 68,  9, 78,  2, 21])"
      ]
     },
     "execution_count": 149,
     "metadata": {},
     "output_type": "execute_result"
    }
   ],
   "source": [
    "a"
   ]
  },
  {
   "cell_type": "code",
   "execution_count": null,
   "metadata": {
    "colab": {
     "base_uri": "https://localhost:8080/"
    },
    "id": "O0npD0R_RF-A",
    "outputId": "6bdbba06-e6f5-4ff0-8a7c-12c6ccd82f8b"
   },
   "outputs": [
    {
     "data": {
      "text/plain": [
       "array([ 11,  64,  92, 142, 180, 217, 311, 403, 408, 438, 506, 515, 593,\n",
       "       595, 616])"
      ]
     },
     "execution_count": 150,
     "metadata": {},
     "output_type": "execute_result"
    }
   ],
   "source": [
    "np.cumsum(a)"
   ]
  },
  {
   "cell_type": "code",
   "execution_count": null,
   "metadata": {
    "colab": {
     "base_uri": "https://localhost:8080/"
    },
    "id": "Ypr5nUGxRJuO",
    "outputId": "c5daf9f8-4115-442b-d7e5-3c2c7fbe6ff9"
   },
   "outputs": [
    {
     "data": {
      "text/plain": [
       "array([[12, 52, 42,  6],\n",
       "       [29, 18, 47, 55],\n",
       "       [61, 93, 83,  9],\n",
       "       [38, 63, 44, 85],\n",
       "       [ 8, 87, 31, 72],\n",
       "       [40, 71,  2,  7]])"
      ]
     },
     "execution_count": 151,
     "metadata": {},
     "output_type": "execute_result"
    }
   ],
   "source": [
    "b"
   ]
  },
  {
   "cell_type": "code",
   "execution_count": null,
   "metadata": {
    "colab": {
     "base_uri": "https://localhost:8080/"
    },
    "id": "WXRZyWT9RTMw",
    "outputId": "325ecfe7-d7e7-4c0c-8f12-1f4fb464ccaa"
   },
   "outputs": [
    {
     "data": {
      "text/plain": [
       "array([[ 12,  64, 106, 112],\n",
       "       [ 29,  47,  94, 149],\n",
       "       [ 61, 154, 237, 246],\n",
       "       [ 38, 101, 145, 230],\n",
       "       [  8,  95, 126, 198],\n",
       "       [ 40, 111, 113, 120]])"
      ]
     },
     "execution_count": 154,
     "metadata": {},
     "output_type": "execute_result"
    }
   ],
   "source": [
    "np.cumsum(b,axis=1)"
   ]
  },
  {
   "cell_type": "code",
   "execution_count": 17,
   "metadata": {
    "colab": {
     "base_uri": "https://localhost:8080/"
    },
    "id": "5WGkAjfjRNOe",
    "outputId": "3db49d2c-9b19-48fd-ddec-39c30cac0a0b"
   },
   "outputs": [
    {
     "data": {
      "text/plain": [
       "array([  81,   96,  104,  170,  216,  228,  284,  330,  411,  496,  586,\n",
       "        643,  691,  703,  713,  754,  853,  885,  969, 1037, 1041, 1074,\n",
       "       1145, 1227])"
      ]
     },
     "execution_count": 17,
     "metadata": {},
     "output_type": "execute_result"
    }
   ],
   "source": [
    "np.cumsum(b)"
   ]
  },
  {
   "cell_type": "code",
   "execution_count": 18,
   "metadata": {
    "colab": {
     "base_uri": "https://localhost:8080/"
    },
    "id": "RtGuPGr9WlVV",
    "outputId": "9464aa15-dc95-4314-908d-66533d87f91f"
   },
   "outputs": [
    {
     "data": {
      "text/plain": [
       "array([                  54,                 4914,                24570,\n",
       "                    2162160,            194594400,           8172964800,\n",
       "               662010148800,        7944121785600,      762635691417600,\n",
       "           7626356914176000,     7626356914176000,   205911636682752000,\n",
       "       -7533427329523695616, -4071300173466927104, -5477483794658492416])"
      ]
     },
     "execution_count": 18,
     "metadata": {},
     "output_type": "execute_result"
    }
   ],
   "source": [
    "# np.cumprod\n",
    "np.cumprod(a)"
   ]
  },
  {
   "cell_type": "code",
   "execution_count": null,
   "metadata": {
    "colab": {
     "base_uri": "https://localhost:8080/"
    },
    "id": "8kdxzQXiRMOS",
    "outputId": "c052981c-77a4-48f2-f3a3-fdf8a2c214a2"
   },
   "outputs": [
    {
     "data": {
      "text/plain": [
       "array([11, 53, 28, 50, 38, 37, 94, 92,  5, 30, 68,  9, 78,  2, 21])"
      ]
     },
     "execution_count": 155,
     "metadata": {},
     "output_type": "execute_result"
    }
   ],
   "source": [
    "a"
   ]
  },
  {
   "cell_type": "markdown",
   "metadata": {
    "id": "SIuRwLMjcnOl"
   },
   "source": [
    "### np.percentile\n",
    "\n",
    "numpy.percentile()function used to compute the nth percentile of the given data (array elements) along the specified axis.\n",
    "\n",
    "https://numpy.org/doc/stable/reference/generated/numpy.percentile.html"
   ]
  },
  {
   "cell_type": "code",
   "execution_count": 19,
   "metadata": {
    "colab": {
     "base_uri": "https://localhost:8080/"
    },
    "id": "_o8iH4Evcl8C",
    "outputId": "cf0f3b8b-afa5-41c9-e365-3bb51d06fd53"
   },
   "outputs": [
    {
     "data": {
      "text/plain": [
       "array([54, 91,  5, 88, 90, 42, 81, 12, 96, 10,  1, 27, 53, 74, 24])"
      ]
     },
     "execution_count": 19,
     "metadata": {},
     "output_type": "execute_result"
    }
   ],
   "source": [
    "a"
   ]
  },
  {
   "cell_type": "code",
   "execution_count": 26,
   "metadata": {
    "colab": {
     "base_uri": "https://localhost:8080/"
    },
    "id": "gBH8ZvtrSND9",
    "outputId": "d90ed235-2a77-4493-bc30-52e3899b9e3d"
   },
   "outputs": [
    {
     "data": {
      "text/plain": [
       "53.0"
      ]
     },
     "execution_count": 26,
     "metadata": {},
     "output_type": "execute_result"
    }
   ],
   "source": [
    "np.percentile(a,50)"
   ]
  },
  {
   "cell_type": "code",
   "execution_count": null,
   "metadata": {
    "colab": {
     "base_uri": "https://localhost:8080/"
    },
    "id": "KLIhMJSTScTy",
    "outputId": "62d539c9-0d48-4791-d269-752469424313"
   },
   "outputs": [
    {
     "data": {
      "text/plain": [
       "37.0"
      ]
     },
     "execution_count": 161,
     "metadata": {},
     "output_type": "execute_result"
    }
   ],
   "source": [
    "np.median(a)"
   ]
  },
  {
   "cell_type": "markdown",
   "metadata": {
    "id": "2C6nGaJHev5N"
   },
   "source": [
    "### np.histogram\n",
    "\n",
    "Numpy has a built-in numpy.histogram() function which represents the frequency of data distribution in the graphical form.\n",
    "\n",
    "https://numpy.org/doc/stable/reference/generated/numpy.histogram.html"
   ]
  },
  {
   "cell_type": "code",
   "execution_count": null,
   "metadata": {
    "colab": {
     "base_uri": "https://localhost:8080/"
    },
    "id": "S2pFLU5ZWuTx",
    "outputId": "f461cfbe-2556-49c4-a2f2-d9cc8dcccd29"
   },
   "outputs": [
    {
     "data": {
      "text/plain": [
       "array([11, 53, 28, 50, 38, 37, 94, 92,  5, 30, 68,  9, 78,  2, 21])"
      ]
     },
     "execution_count": 162,
     "metadata": {},
     "output_type": "execute_result"
    }
   ],
   "source": [
    "# code\n",
    "a"
   ]
  },
  {
   "cell_type": "code",
   "execution_count": 27,
   "metadata": {
    "colab": {
     "base_uri": "https://localhost:8080/"
    },
    "id": "wZlQuOFpSbE3",
    "outputId": "1b1c97e9-adc1-4797-85d9-da2e971a7d04"
   },
   "outputs": [
    {
     "data": {
      "text/plain": [
       "(array([5, 2, 3, 5]), array([  0,  25,  50,  75, 100]))"
      ]
     },
     "execution_count": 27,
     "metadata": {},
     "output_type": "execute_result"
    }
   ],
   "source": [
    "np.histogram(a,bins=[0,25,50,75,100])"
   ]
  },
  {
   "cell_type": "markdown",
   "metadata": {
    "id": "JxgMS0Zef8oQ"
   },
   "source": [
    "### np.corrcoef\n",
    "\n",
    "Return Pearson product-moment correlation coefficients.\n",
    "\n",
    "https://numpy.org/doc/stable/reference/generated/numpy.corrcoef.html"
   ]
  },
  {
   "cell_type": "code",
   "execution_count": null,
   "metadata": {
    "colab": {
     "base_uri": "https://localhost:8080/"
    },
    "id": "ZAMnvEm5WyUp",
    "outputId": "0445bb77-29e1-49e2-f07e-656e33f9b70d"
   },
   "outputs": [
    {
     "data": {
      "text/plain": [
       "array([[1.        , 0.25344572],\n",
       "       [0.25344572, 1.        ]])"
      ]
     },
     "execution_count": 165,
     "metadata": {},
     "output_type": "execute_result"
    }
   ],
   "source": [
    "salary = np.array([20000,40000,25000,35000,60000])\n",
    "experience = np.array([1,3,2,4,2])\n",
    "\n",
    "np.corrcoef(salary,experience)"
   ]
  },
  {
   "cell_type": "markdown",
   "metadata": {
    "id": "Ot4h1PdGh-vI"
   },
   "source": [
    "### np.isin\n",
    "\n",
    "With the help of numpy.isin() method, we can see that one array having values are checked in a different numpy array having different elements with different sizes.\n",
    "\n",
    "https://numpy.org/doc/stable/reference/generated/numpy.isin.html"
   ]
  },
  {
   "cell_type": "code",
   "execution_count": null,
   "metadata": {
    "colab": {
     "base_uri": "https://localhost:8080/"
    },
    "id": "oyyVo0qnW2Cz",
    "outputId": "b33f145d-105c-48ed-8245-64690a561870"
   },
   "outputs": [
    {
     "data": {
      "text/plain": [
       "array([54, 91,  5, 88, 90, 42, 81, 12, 96, 10,  1, 27, 53, 74, 24])"
      ]
     },
     "execution_count": 28,
     "metadata": {},
     "output_type": "execute_result"
    }
   ],
   "source": [
    "# code\n",
    "a\n"
   ]
  },
  {
   "cell_type": "code",
   "execution_count": 31,
   "metadata": {
    "colab": {
     "base_uri": "https://localhost:8080/"
    },
    "id": "lLA0c9z2VE3O",
    "outputId": "d4e57c02-f7b5-4a0a-cfad-0ba29f5029fb"
   },
   "outputs": [
    {
     "data": {
      "text/plain": [
       "array([90, 10])"
      ]
     },
     "execution_count": 31,
     "metadata": {},
     "output_type": "execute_result"
    }
   ],
   "source": [
    "items = [10,20,30,40,50,60,70,80,90,100]\n",
    "\n",
    "a[np.isin(a,items)]"
   ]
  },
  {
   "cell_type": "markdown",
   "metadata": {
    "id": "8VKXXRjmicT-"
   },
   "source": [
    "### np.flip\n",
    "\n",
    "The numpy.flip() function reverses the order of array elements along the specified axis, preserving the shape of the array.\n",
    "\n",
    "https://numpy.org/doc/stable/reference/generated/numpy.flip.html"
   ]
  },
  {
   "cell_type": "code",
   "execution_count": null,
   "metadata": {
    "colab": {
     "base_uri": "https://localhost:8080/"
    },
    "id": "lMreAl7yEvBa",
    "outputId": "64044da1-ce34-403c-f97d-7b77a7e9ecea"
   },
   "outputs": [
    {
     "data": {
      "text/plain": [
       "array([11, 53, 28, 50, 38, 37, 94, 92,  5, 30, 68,  9, 78,  2, 21])"
      ]
     },
     "execution_count": 169,
     "metadata": {},
     "output_type": "execute_result"
    }
   ],
   "source": [
    "# code\n",
    "a"
   ]
  },
  {
   "cell_type": "code",
   "execution_count": null,
   "metadata": {
    "colab": {
     "base_uri": "https://localhost:8080/"
    },
    "id": "82l_pzDbVfNp",
    "outputId": "ab7282bc-5857-4c51-9f78-feda9252233e"
   },
   "outputs": [
    {
     "data": {
      "text/plain": [
       "array([21,  2, 78,  9, 68, 30,  5, 92, 94, 37, 38, 50, 28, 53, 11])"
      ]
     },
     "execution_count": 170,
     "metadata": {},
     "output_type": "execute_result"
    }
   ],
   "source": [
    "np.flip(a)"
   ]
  },
  {
   "cell_type": "code",
   "execution_count": null,
   "metadata": {
    "colab": {
     "base_uri": "https://localhost:8080/"
    },
    "id": "nWp3PQ87Vkin",
    "outputId": "1f8ef30d-846d-47f2-bdd8-0dcefc7312e2"
   },
   "outputs": [
    {
     "data": {
      "text/plain": [
       "array([[12, 52, 42,  6],\n",
       "       [29, 18, 47, 55],\n",
       "       [61, 93, 83,  9],\n",
       "       [38, 63, 44, 85],\n",
       "       [ 8, 87, 31, 72],\n",
       "       [40, 71,  2,  7]])"
      ]
     },
     "execution_count": 171,
     "metadata": {},
     "output_type": "execute_result"
    }
   ],
   "source": [
    "b"
   ]
  },
  {
   "cell_type": "code",
   "execution_count": null,
   "metadata": {
    "colab": {
     "base_uri": "https://localhost:8080/"
    },
    "id": "UOU3WOBwVm59",
    "outputId": "a67d4005-b585-4977-9916-3b3a177a5410"
   },
   "outputs": [
    {
     "data": {
      "text/plain": [
       "array([[ 6, 42, 52, 12],\n",
       "       [55, 47, 18, 29],\n",
       "       [ 9, 83, 93, 61],\n",
       "       [85, 44, 63, 38],\n",
       "       [72, 31, 87,  8],\n",
       "       [ 7,  2, 71, 40]])"
      ]
     },
     "execution_count": 174,
     "metadata": {},
     "output_type": "execute_result"
    }
   ],
   "source": [
    "np.flip(b,axis=1)"
   ]
  },
  {
   "cell_type": "markdown",
   "metadata": {
    "id": "n7jTKF2QjIz4"
   },
   "source": [
    "### np.put\n",
    "\n",
    "The numpy.put() function replaces specific elements of an array with given values of p_array. Array indexed works on flattened array.\n",
    "\n",
    "https://numpy.org/doc/stable/reference/generated/numpy.put.html"
   ]
  },
  {
   "cell_type": "code",
   "execution_count": 33,
   "metadata": {
    "colab": {
     "base_uri": "https://localhost:8080/"
    },
    "id": "xZrJHzr0E0zN",
    "outputId": "1b1c1841-8973-4c07-bdfa-fa05d4942f6f"
   },
   "outputs": [
    {
     "data": {
      "text/plain": [
       "array([54, 91,  5, 88, 90, 42, 81, 12, 96, 10,  1, 27, 53, 74, 24])"
      ]
     },
     "execution_count": 33,
     "metadata": {},
     "output_type": "execute_result"
    }
   ],
   "source": [
    "a"
   ]
  },
  {
   "cell_type": "code",
   "execution_count": 34,
   "metadata": {
    "id": "dtl97d4SWHUG"
   },
   "outputs": [],
   "source": [
    "np.put(a,[0,1],[110,530])"
   ]
  },
  {
   "cell_type": "code",
   "execution_count": 35,
   "metadata": {
    "colab": {
     "base_uri": "https://localhost:8080/"
    },
    "id": "aAXbDfS9TQwh",
    "outputId": "14e83a21-9106-4479-bde4-ea74d6397a2d"
   },
   "outputs": [
    {
     "data": {
      "text/plain": [
       "array([110, 530,   5,  88,  90,  42,  81,  12,  96,  10,   1,  27,  53,\n",
       "        74,  24])"
      ]
     },
     "execution_count": 35,
     "metadata": {},
     "output_type": "execute_result"
    }
   ],
   "source": [
    "a"
   ]
  },
  {
   "cell_type": "markdown",
   "metadata": {
    "id": "lYkpJg3kpSWB"
   },
   "source": [
    "### np.delete\n",
    "\n",
    "The numpy.delete() function returns a new array with the deletion of sub-arrays along with the mentioned axis.\n",
    "\n",
    "https://numpy.org/doc/stable/reference/generated/numpy.delete.html"
   ]
  },
  {
   "cell_type": "code",
   "execution_count": 36,
   "metadata": {
    "colab": {
     "base_uri": "https://localhost:8080/"
    },
    "id": "VmGLdiy5pQXc",
    "outputId": "3c87a811-e91b-4eb9-9e2e-95a0d779441b"
   },
   "outputs": [
    {
     "data": {
      "text/plain": [
       "array([110, 530,   5,  88,  90,  42,  81,  12,  96,  10,   1,  27,  53,\n",
       "        74,  24])"
      ]
     },
     "execution_count": 36,
     "metadata": {},
     "output_type": "execute_result"
    }
   ],
   "source": [
    "a"
   ]
  },
  {
   "cell_type": "code",
   "execution_count": 37,
   "metadata": {
    "colab": {
     "base_uri": "https://localhost:8080/"
    },
    "id": "A5Dp974mWeWd",
    "outputId": "2dc18149-2b09-438f-a2e9-5efdfa8e6823"
   },
   "outputs": [
    {
     "data": {
      "text/plain": [
       "array([530,  88,  42,  81,  12,  96,  10,   1,  27,  53,  74,  24])"
      ]
     },
     "execution_count": 37,
     "metadata": {},
     "output_type": "execute_result"
    }
   ],
   "source": [
    "np.delete(a,[0,2,4])"
   ]
  },
  {
   "cell_type": "markdown",
   "metadata": {
    "id": "Ei94MbFbrjvx"
   },
   "source": [
    "### Set functions\n",
    "\n",
    "- np.union1d\n",
    "- np.intersect1d\n",
    "- np.setdiff1d\n",
    "- np.setxor1d\n",
    "- np.in1d"
   ]
  },
  {
   "cell_type": "code",
   "execution_count": 38,
   "metadata": {
    "colab": {
     "base_uri": "https://localhost:8080/"
    },
    "id": "hHSwzU1irY0f",
    "outputId": "df29e26c-9fef-472e-c17c-239e4399d2f4"
   },
   "outputs": [
    {
     "data": {
      "text/plain": [
       "array([1, 2, 3, 4, 5, 6, 7])"
      ]
     },
     "execution_count": 38,
     "metadata": {},
     "output_type": "execute_result"
    }
   ],
   "source": [
    "m = np.array([1,2,3,4,5])\n",
    "n = np.array([3,4,5,6,7])\n",
    "\n",
    "np.union1d(m,n)"
   ]
  },
  {
   "cell_type": "code",
   "execution_count": 39,
   "metadata": {
    "colab": {
     "base_uri": "https://localhost:8080/"
    },
    "id": "XSIuF3zWXZXP",
    "outputId": "3f82c897-31e2-449b-8cea-4b5b2d3f5310"
   },
   "outputs": [
    {
     "data": {
      "text/plain": [
       "array([3, 4, 5])"
      ]
     },
     "execution_count": 39,
     "metadata": {},
     "output_type": "execute_result"
    }
   ],
   "source": [
    "np.intersect1d(m,n)"
   ]
  },
  {
   "cell_type": "markdown",
   "metadata": {
    "id": "eWQeOEEnU-Zr"
   },
   "source": [
    "np.setdiff1d(n, m) ==>\n",
    "This function finds the elements in the first input array (n) that are not present in the second input array (m)."
   ]
  },
  {
   "cell_type": "code",
   "execution_count": 40,
   "metadata": {
    "colab": {
     "base_uri": "https://localhost:8080/"
    },
    "id": "PLXM47qtU7zU",
    "outputId": "acf1fced-669c-4673-b99e-9a2ad4b3d166"
   },
   "outputs": [
    {
     "data": {
      "text/plain": [
       "array([6, 7])"
      ]
     },
     "execution_count": 40,
     "metadata": {},
     "output_type": "execute_result"
    }
   ],
   "source": [
    "np.setdiff1d(n, m)"
   ]
  },
  {
   "cell_type": "markdown",
   "metadata": {
    "id": "bmQnAH0EVcMs"
   },
   "source": [
    "np.setxor1d(m,n) ==> Finds the symmetric difference between the two sets. Think of it as all the elements that are unique to either m or n, but not present in both."
   ]
  },
  {
   "cell_type": "code",
   "execution_count": null,
   "metadata": {
    "colab": {
     "base_uri": "https://localhost:8080/"
    },
    "id": "KaZbcTk0XubR",
    "outputId": "7d086410-d76c-4818-e35f-edf0792d54eb"
   },
   "outputs": [
    {
     "data": {
      "text/plain": [
       "array([1, 2, 6, 7])"
      ]
     },
     "execution_count": 186,
     "metadata": {},
     "output_type": "execute_result"
    }
   ],
   "source": [
    "np.setxor1d(m,n)"
   ]
  },
  {
   "cell_type": "code",
   "execution_count": null,
   "metadata": {
    "colab": {
     "base_uri": "https://localhost:8080/"
    },
    "id": "SqV9rpQ_XzVg",
    "outputId": "ad95c2eb-ed10-46ec-9c99-2a5fa4b3082a"
   },
   "outputs": [
    {
     "data": {
      "text/plain": [
       "array([1])"
      ]
     },
     "execution_count": 189,
     "metadata": {},
     "output_type": "execute_result"
    }
   ],
   "source": [
    "m[np.in1d(m,1)]"
   ]
  },
  {
   "cell_type": "markdown",
   "metadata": {
    "id": "uLxS7H2pr-rh"
   },
   "source": [
    "### np.clip\n",
    "\n",
    "numpy.clip() function is used to Clip (limit) the values in an array.\n",
    "\n",
    "https://numpy.org/doc/stable/reference/generated/numpy.clip.html"
   ]
  },
  {
   "cell_type": "code",
   "execution_count": null,
   "metadata": {
    "colab": {
     "base_uri": "https://localhost:8080/"
    },
    "id": "Q3S9gjNzsL73",
    "outputId": "536e7835-500c-4493-9f69-0273a967f8b4"
   },
   "outputs": [
    {
     "data": {
      "text/plain": [
       "array([110, 530,  28,  50,  38,  37,  94,  92,   5,  30,  68,   9,  78,\n",
       "         2,  21])"
      ]
     },
     "execution_count": 190,
     "metadata": {},
     "output_type": "execute_result"
    }
   ],
   "source": [
    "# code\n",
    "a"
   ]
  },
  {
   "cell_type": "code",
   "execution_count": null,
   "metadata": {
    "colab": {
     "base_uri": "https://localhost:8080/"
    },
    "id": "x08JKAVHYOxF",
    "outputId": "a8ba892e-f2ea-44a3-b48e-9a3996ff81f9"
   },
   "outputs": [
    {
     "data": {
      "text/plain": [
       "array([75, 75, 28, 50, 38, 37, 75, 75, 25, 30, 68, 25, 75, 25, 25])"
      ]
     },
     "execution_count": 191,
     "metadata": {},
     "output_type": "execute_result"
    }
   ],
   "source": [
    "np.clip(a,a_min=25,a_max=75)"
   ]
  },
  {
   "cell_type": "markdown",
   "metadata": {
    "id": "G3vwxG4hYHDt"
   },
   "source": [
    "### np.swapaxes"
   ]
  },
  {
   "cell_type": "code",
   "execution_count": 48,
   "metadata": {
    "colab": {
     "base_uri": "https://localhost:8080/"
    },
    "id": "WZMkk67PYYW4",
    "outputId": "e636b201-3035-413d-892b-7efd726784ca"
   },
   "outputs": [
    {
     "name": "stdout",
     "output_type": "stream",
     "text": [
      "Original matrix:\n",
      "[[1 2 3]\n",
      " [4 5 6]]\n",
      "Swapped matrix:\n",
      "[[1 4]\n",
      " [2 5]\n",
      " [3 6]]\n"
     ]
    }
   ],
   "source": [
    "matrix = np.array([[1, 2, 3], [4, 5, 6]])\n",
    "swapped_matrix = np.swapaxes(matrix, 0, 1)\n",
    "\n",
    "print(f\"Original matrix:\\n{matrix}\")\n",
    "print(f\"Swapped matrix:\\n{swapped_matrix}\")"
   ]
  },
  {
   "cell_type": "markdown",
   "metadata": {
    "id": "jWjIQ6oqZcr0"
   },
   "source": [
    "### np.uniform\n",
    "\n",
    "Parameters:\n",
    "\n",
    "low: The lower bound of the range for the random numbers (inclusive).\n",
    "\n",
    "high: The upper bound of the range (exclusive).\n",
    "\n",
    "size: (Optional) The shape of the desired array of random numbers. By default, it's a single value."
   ]
  },
  {
   "cell_type": "code",
   "execution_count": 51,
   "metadata": {
    "colab": {
     "base_uri": "https://localhost:8080/"
    },
    "id": "CMq11dTrZfxM",
    "outputId": "c88621f1-24cb-4917-9122-6992bae2d3df"
   },
   "outputs": [
    {
     "name": "stdout",
     "output_type": "stream",
     "text": [
      "[0.09615954 0.97359195 0.98283447 0.21030668 0.51268277 0.13521908\n",
      " 0.66051578 0.99282782 0.2252904  0.38634915]\n"
     ]
    }
   ],
   "source": [
    "random_numbers = np.random.uniform(0, 1, size=10)\n",
    "\n",
    "print(random_numbers)"
   ]
  },
  {
   "cell_type": "code",
   "execution_count": null,
   "metadata": {
    "id": "y7M0rggRKBIu"
   },
   "outputs": [],
   "source": [
    "# 19. np.count_nonzero"
   ]
  },
  {
   "cell_type": "markdown",
   "metadata": {
    "id": "lR4bwHK0auhF"
   },
   "source": [
    "### np.tile\n",
    "\n",
    "input: The array you want to replicate (the tile).\n",
    "\n",
    "reps: A tuple or integer specifying how many times to repeat the tile in each dimension.\n",
    "\n",
    "Optional: Additional arguments for fine-tuning the tiling behavior."
   ]
  },
  {
   "cell_type": "code",
   "execution_count": 54,
   "metadata": {
    "colab": {
     "base_uri": "https://localhost:8080/"
    },
    "id": "qzd3ghBCbIqq",
    "outputId": "c412e656-2dde-40e4-eee8-82b8f178134c"
   },
   "outputs": [
    {
     "name": "stdout",
     "output_type": "stream",
     "text": [
      "[[5 5 5 5]\n",
      " [5 5 5 5]\n",
      " [5 5 5 5]]\n"
     ]
    }
   ],
   "source": [
    "single_element = np.array([5])\n",
    "repeated_element = np.tile(single_element, (3, 4))\n",
    "\n",
    "print(repeated_element)"
   ]
  },
  {
   "cell_type": "code",
   "execution_count": 56,
   "metadata": {
    "colab": {
     "base_uri": "https://localhost:8080/"
    },
    "id": "gRQqsnTgbPfR",
    "outputId": "0a03f9be-00c3-43de-8424-8b15ffc725d3"
   },
   "outputs": [
    {
     "name": "stdout",
     "output_type": "stream",
     "text": [
      "[[0 0]\n",
      " [1 1]]\n"
     ]
    }
   ],
   "source": [
    "black_tile = np.array([0])\n",
    "white_tile = np.array([1])\n",
    "\n",
    "checkerboard = np.tile((black_tile, white_tile), (2, 2))\n",
    "\n",
    "print(checkerboard)"
   ]
  },
  {
   "cell_type": "markdown",
   "metadata": {
    "id": "NM-Xe8vZbvnD"
   },
   "source": [
    "### np.repeat"
   ]
  },
  {
   "cell_type": "code",
   "execution_count": 55,
   "metadata": {
    "colab": {
     "base_uri": "https://localhost:8080/"
    },
    "id": "75a2B3bgb4az",
    "outputId": "98d7142d-5f9d-4cac-d09d-700e285402e6"
   },
   "outputs": [
    {
     "name": "stdout",
     "output_type": "stream",
     "text": [
      "[1 1 1 2 2 2 3 3 3]\n"
     ]
    }
   ],
   "source": [
    "chili_flakes = np.array([1, 2, 3])\n",
    "spicy_dish = np.repeat(chili_flakes, 3)\n",
    "\n",
    "print(spicy_dish)"
   ]
  },
  {
   "cell_type": "code",
   "execution_count": 59,
   "metadata": {
    "colab": {
     "base_uri": "https://localhost:8080/"
    },
    "id": "oHmNEx1-cv5D",
    "outputId": "6f80ada0-75af-4d79-ebeb-e6889ad745a8"
   },
   "outputs": [
    {
     "name": "stdout",
     "output_type": "stream",
     "text": [
      "[1 1 1 1 1 1 1 1 0 0 0 0 0 0 0 0]\n"
     ]
    }
   ],
   "source": [
    "drum_beat = np.array([1, 0])\n",
    "repeated_beat = np.repeat(drum_beat, 8, axis=0)\n",
    "\n",
    "print(repeated_beat)"
   ]
  },
  {
   "cell_type": "markdown",
   "metadata": {
    "id": "ttU9HGbndNA5"
   },
   "source": [
    "### np.allclose\n",
    "\n",
    "a1: The first array to be compared.\n",
    "\n",
    "a2: The second array to be compared.\n",
    "\n",
    "rtol: The relative tolerance (a percentage difference allowed).\n",
    "\n",
    "atol: The absolute tolerance (a fixed difference allowed)."
   ]
  },
  {
   "cell_type": "code",
   "execution_count": 63,
   "metadata": {
    "colab": {
     "base_uri": "https://localhost:8080/"
    },
    "id": "kdcZC0ESdZSJ",
    "outputId": "ee34398a-ae08-4216-d6e8-0f851b0e0b3e"
   },
   "outputs": [
    {
     "name": "stdout",
     "output_type": "stream",
     "text": [
      "Sensor readings similar? True\n"
     ]
    }
   ],
   "source": [
    "sensor1_data = np.array([1.01, 2.02, 3.04])\n",
    "sensor2_data = np.array([1.00, 2.01, 3.03])\n",
    "\n",
    "are_close = np.allclose(sensor1_data, sensor2_data, rtol=0.02)\n",
    "\n",
    "print(f\"Sensor readings similar? {are_close}\")"
   ]
  },
  {
   "cell_type": "code",
   "execution_count": 67,
   "metadata": {
    "colab": {
     "base_uri": "https://localhost:8080/"
    },
    "id": "pXcKYDQrddEH",
    "outputId": "e3e99c74-e18f-4fa8-bb46-a3e31b7dd9c2"
   },
   "outputs": [
    {
     "name": "stdout",
     "output_type": "stream",
     "text": [
      "Forecasts close enough? True\n"
     ]
    }
   ],
   "source": [
    "forecast1 = np.array([105, 110, 115])\n",
    "forecast2 = np.array([104, 112, 117])\n",
    "\n",
    "are_similar = np.allclose(forecast1, forecast2, atol=2)\n",
    "\n",
    "print(f\"Forecasts close enough? {are_similar}\")"
   ]
  }
 ],
 "metadata": {
  "colab": {
   "include_colab_link": true,
   "provenance": []
  },
  "kernelspec": {
   "display_name": "Python 3",
   "name": "python3"
  },
  "language_info": {
   "name": "python"
  }
 },
 "nbformat": 4,
 "nbformat_minor": 0
}
