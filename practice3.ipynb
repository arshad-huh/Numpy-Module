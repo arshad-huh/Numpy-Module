{
  "nbformat": 4,
  "nbformat_minor": 0,
  "metadata": {
    "colab": {
      "provenance": [],
      "include_colab_link": true
    },
    "kernelspec": {
      "name": "python3",
      "display_name": "Python 3"
    },
    "language_info": {
      "name": "python"
    }
  },
  "cells": [
    {
      "cell_type": "markdown",
      "metadata": {
        "id": "view-in-github",
        "colab_type": "text"
      },
      "source": [
        "<a href=\"https://colab.research.google.com/github/arshad-huh/Numpy-Module/blob/main/practice3.ipynb\" target=\"_parent\"><img src=\"https://colab.research.google.com/assets/colab-badge.svg\" alt=\"Open In Colab\"/></a>"
      ]
    },
    {
      "cell_type": "code",
      "source": [
        "import numpy as np"
      ],
      "metadata": {
        "id": "QSfqzwYHl6_C"
      },
      "execution_count": 1,
      "outputs": []
    },
    {
      "cell_type": "markdown",
      "source": [
        "###`Q-1:` Create a random 3x4 matrix with value between 0-100. And perform below tasks\n",
        "\n",
        "    i. Sort this matrix. np.sort()\n",
        "    ii. Sort this matrix based on values in 2nd column.\n",
        "    iii. Sort this matrix based on max value in each row.\n",
        "    iv. Sort based on elements value.\n"
      ],
      "metadata": {
        "id": "J88qfqQEk_sT"
      }
    },
    {
      "cell_type": "markdown",
      "source": [
        "See examples:\n",
        "```\n",
        "arr =\n",
        "    [[92 90 74]\n",
        "    [ 6 63 93]\n",
        "    [15 93 96]\n",
        "    [70 60 48]]\n",
        "```\n",
        "```\n",
        "i. np.sort\n",
        "[[74 90 92]\n",
        " [ 6 63 93]\n",
        " [15 93 96]\n",
        " [48 60 70]]\n",
        "\n",
        "ii. based on 2nd column\n",
        "[[70 60 48]\n",
        " [ 6 63 93]\n",
        " [92 90 74]\n",
        " [15 93 96]]\n",
        "\n",
        "iii. based on row max- ascending\n",
        "[[15 93 96]\n",
        " [ 6 63 93]\n",
        " [92 90 74]\n",
        " [70 60 48]]\n",
        "\n",
        "iv. based on elements value\n",
        "[[ 6 15 48]\n",
        " [60 63 70]\n",
        " [74 90 92]\n",
        " [93 93 96]]\n",
        "\n",
        "```"
      ],
      "metadata": {
        "id": "xpOwOdhqlE9R"
      }
    },
    {
      "cell_type": "code",
      "source": [
        "# i\n",
        "arr = np.random.randint(0, 100, (3,4))\n",
        "print(\"Array:\\n\", arr)\n",
        "\n",
        "# ii\n",
        "sorted_arr = np.sort(arr)\n",
        "print(\"Sorted Array:\\n\", sorted_arr)\n",
        "\n",
        "# iii\n",
        "sorted_col = np.sort(arr[:, 1])\n",
        "arr[:, 1] = sorted_col\n",
        "print(\"Sorted Array in 2nd Column:\\n\", arr)\n",
        "\n",
        "# iv\n",
        "sorted_elements = np.sort(np.ravel(arr))\n",
        "sorted_ele_arr = sorted_elements.reshape(3,4)\n",
        "print(\"Sorted based on elements value:\\n\", sorted_ele_arr)"
      ],
      "metadata": {
        "id": "Auy-guUwlALv",
        "outputId": "2805d199-2c49-40ff-d8d3-82f9f5198dec",
        "colab": {
          "base_uri": "https://localhost:8080/"
        }
      },
      "execution_count": 28,
      "outputs": [
        {
          "output_type": "stream",
          "name": "stdout",
          "text": [
            "Array:\n",
            " [[22 99 34  7]\n",
            " [72 89 39 42]\n",
            " [33 26 97 75]]\n",
            "Sorted Array:\n",
            " [[ 7 22 34 99]\n",
            " [39 42 72 89]\n",
            " [26 33 75 97]]\n",
            "Sorted Array in 2nd Column:\n",
            " [[22 26 34  7]\n",
            " [72 89 39 42]\n",
            " [33 99 97 75]]\n",
            "Sorted based on elements value:\n",
            " [[ 7 22 26 33]\n",
            " [34 39 42 72]\n",
            " [75 89 97 99]]\n"
          ]
        }
      ]
    },
    {
      "cell_type": "markdown",
      "source": [
        "###`Q-2:` There is an array of marks of 5 students in 4 subjects. Further you are asked to perform below task.\n",
        "    i. Add marks every student of an extra subject in the same array.\n",
        "    ii. Add two new students marks in respective 5 subjects.(one subject added in above task)\n",
        "    iii. Add extra column with sum of all subjects(5-subjects) marks\n",
        "    iv. Sort the array(non-ascending order) on total marks column--one added in above task. Show top 2 rows.\n",
        "\n",
        "Note: Change dimension of arrays during concatenation or appending if required."
      ],
      "metadata": {
        "id": "Jx_I3gx9lBay"
      }
    },
    {
      "cell_type": "markdown",
      "source": [
        "Given Array-\n",
        "```\n",
        "marks = [[13, 10,  9, 33],\n",
        "       [63, 46, 90, 42],\n",
        "       [39, 76, 13, 29],\n",
        "       [82,  9, 29, 78],\n",
        "       [67, 61, 59, 36]]\n",
        "\n",
        "extra_subject = [41, 87, 72, 36, 92]\n",
        "#Two extra students record-\n",
        "rec1 = [77, 83, 98, 95, 89]\n",
        "rec2 = [92, 71, 52, 61, 53]\n",
        "```"
      ],
      "metadata": {
        "id": "lXF-CE6ylNIw"
      }
    },
    {
      "cell_type": "code",
      "source": [
        "marks = np.array([[13, 10,  9, 33],\n",
        "       [63, 46, 90, 42],\n",
        "       [39, 76, 13, 29],\n",
        "       [82,  9, 29, 78],\n",
        "       [67, 61, 59, 36]])\n",
        "\n",
        "extra_subject = np.array([41, 87, 72, 36, 92])\n",
        "\n",
        "print(\"Marks:\\n\", marks)\n",
        "\n",
        "# i\n",
        "updated_marks = np.column_stack((marks, extra_subject))\n",
        "print(\"Updated Marks:\\n\", updated_marks)\n",
        "\n",
        "\n",
        "# ii\n",
        "# Two new students' records\n",
        "rec1 = np.array([77, 83, 98, 95, 89])\n",
        "rec2 = np.array([92, 71, 52, 61, 53])\n",
        "\n",
        "updated_marks2 = np.vstack((updated_marks, rec1, rec2))\n",
        "\n",
        "print(\"Marks with 2 new students added:\\n\", updated_marks2)\n",
        "\n",
        "# iii\n",
        "updated_marks3 = np.column_stack((updated_marks2, np.sum(updated_marks2, axis=1)))\n",
        "\n",
        "print(\"Marks with Sum column:\\n\", updated_marks3)\n",
        "\n",
        "\n",
        "# iv\n",
        "sorted_indices = np.argsort(updated_marks3[:, -1])[::-1]\n",
        "updated_marks4 = updated_marks3[sorted_indices]\n",
        "\n",
        "print(\"Sorted Marks(non-ascending order) on total marks column:\\n\", updated_marks4)"
      ],
      "metadata": {
        "id": "7YKsWO2olMkq",
        "outputId": "f2b96379-821c-43c5-80d0-0b639bcce8b3",
        "colab": {
          "base_uri": "https://localhost:8080/"
        }
      },
      "execution_count": 66,
      "outputs": [
        {
          "output_type": "stream",
          "name": "stdout",
          "text": [
            "Marks:\n",
            " [[13 10  9 33]\n",
            " [63 46 90 42]\n",
            " [39 76 13 29]\n",
            " [82  9 29 78]\n",
            " [67 61 59 36]]\n",
            "Updated Marks:\n",
            " [[13 10  9 33 41]\n",
            " [63 46 90 42 87]\n",
            " [39 76 13 29 72]\n",
            " [82  9 29 78 36]\n",
            " [67 61 59 36 92]]\n",
            "Marks with 2 new students added:\n",
            " [[13 10  9 33 41]\n",
            " [63 46 90 42 87]\n",
            " [39 76 13 29 72]\n",
            " [82  9 29 78 36]\n",
            " [67 61 59 36 92]\n",
            " [77 83 98 95 89]\n",
            " [92 71 52 61 53]]\n",
            "Marks with Sum column:\n",
            " [[ 13  10   9  33  41 106]\n",
            " [ 63  46  90  42  87 328]\n",
            " [ 39  76  13  29  72 229]\n",
            " [ 82   9  29  78  36 234]\n",
            " [ 67  61  59  36  92 315]\n",
            " [ 77  83  98  95  89 442]\n",
            " [ 92  71  52  61  53 329]]\n",
            "Sorted Marks(non-ascending order) on total marks column:\n",
            " [[ 77  83  98  95  89 442]\n",
            " [ 92  71  52  61  53 329]\n",
            " [ 63  46  90  42  87 328]\n",
            " [ 67  61  59  36  92 315]\n",
            " [ 82   9  29  78  36 234]\n",
            " [ 39  76  13  29  72 229]\n",
            " [ 13  10   9  33  41 106]]\n"
          ]
        }
      ]
    },
    {
      "cell_type": "markdown",
      "source": [
        "###`Q-3:` Find unique arrays from a 2D array column wise and row wise.\n",
        "```\n",
        "arr = np.array([[1,2,3,3,1,1],\n",
        "                [0,9,1,2,8,8],\n",
        "                [1,2,3,8,8,8],\n",
        "                [1,2,3,3,1,1]])\n",
        "```\n",
        "Expected Result-\n",
        "```\n",
        "Row Wise\n",
        "[[0 9 1 2 8 8]\n",
        " [1 2 3 3 1 1]\n",
        " [1 2 3 8 8 8]]\n",
        "\n",
        "Col Wise\n",
        "[[1 1 2 3 3]\n",
        " [0 8 9 1 2]\n",
        " [1 8 2 3 8]\n",
        " [1 1 2 3 3]]\n",
        "```"
      ],
      "metadata": {
        "id": "VmOyK_8klRqR"
      }
    },
    {
      "cell_type": "code",
      "source": [
        "arr = np.array([[1,2,3,3,1,1],\n",
        "                [0,9,1,2,8,8],\n",
        "                [1,2,3,8,8,8],\n",
        "                [1,2,3,3,1,1]])\n",
        "\n",
        "arr_col_wise = np.unique(arr, axis=0)\n",
        "arr_row_wise = np.unique(arr, axis=1)\n",
        "\n",
        "print(f\"Unique Array Column Wise:\\n {arr_col_wise}\")\n",
        "print(f\"Unique Array Row Wise:\\n {arr_row_wise}\")"
      ],
      "metadata": {
        "id": "LJl10VQrlU5q",
        "outputId": "021c9d86-19bb-4b2b-f422-3b5f5a3c093d",
        "colab": {
          "base_uri": "https://localhost:8080/"
        }
      },
      "execution_count": 71,
      "outputs": [
        {
          "output_type": "stream",
          "name": "stdout",
          "text": [
            "Unique Array Column Wise:\n",
            " [[0 9 1 2 8 8]\n",
            " [1 2 3 3 1 1]\n",
            " [1 2 3 8 8 8]]\n",
            "Unique Array Row Wise:\n",
            " [[1 1 2 3 3]\n",
            " [0 8 9 1 2]\n",
            " [1 8 2 3 8]\n",
            " [1 1 2 3 3]]\n"
          ]
        }
      ]
    },
    {
      "cell_type": "markdown",
      "source": [
        "###`Q-4:` Flip given 2-D array along both axes at the same time."
      ],
      "metadata": {
        "id": "RaXwVkywlWY2"
      }
    },
    {
      "cell_type": "code",
      "source": [
        "arr = np.array([[1, 2, 3],\n",
        "                [4, 5, 6],\n",
        "                [7, 8, 9]])\n",
        "\n",
        "flipped_array = np.flip(arr, axis=None)\n",
        "\n",
        "print(\"Original Array:\")\n",
        "print(arr)\n",
        "\n",
        "print(\"\\nFlipped Array along both axes:\")\n",
        "print(flipped_array)"
      ],
      "metadata": {
        "id": "mN7-4G8Kleeq",
        "outputId": "8198ba91-437d-4249-f672-6b4d095802ef",
        "colab": {
          "base_uri": "https://localhost:8080/"
        }
      },
      "execution_count": 72,
      "outputs": [
        {
          "output_type": "stream",
          "name": "stdout",
          "text": [
            "Original Array:\n",
            "[[1 2 3]\n",
            " [4 5 6]\n",
            " [7 8 9]]\n",
            "\n",
            "Flipped Array along both axes:\n",
            "[[9 8 7]\n",
            " [6 5 4]\n",
            " [3 2 1]]\n"
          ]
        }
      ]
    },
    {
      "cell_type": "markdown",
      "source": [
        "### `Q-5:` Get row numbers of NumPy array having element larger than X.\n",
        "```\n",
        "arr = [[1,2,3,4,5],\n",
        "      [10,-3,30,4,5],\n",
        "      [3,2,5,-4,5],\n",
        "      [9,7,3,6,5]]\n",
        "\n",
        "X = 6\n",
        "```"
      ],
      "metadata": {
        "id": "X0S7BUNTlfoq"
      }
    },
    {
      "cell_type": "code",
      "source": [
        "arr = np.array([[1,2,3,4,5],\n",
        "                [10,-3,30,4,5],\n",
        "                [3,2,5,-4,5],\n",
        "                [9,7,3,6,5]])\n",
        "\n",
        "x = 6\n",
        "\n",
        "rows_with_larger_elements = np.any(arr > x, axis=1)\n",
        "\n",
        "row_numbers = np.where(rows_with_larger_elements)[0]\n",
        "\n",
        "print(\"Row numbers with elements larger than\", x, \":\", row_numbers)"
      ],
      "metadata": {
        "id": "bi8jRmWhlkBU",
        "outputId": "d7ffaa39-fab4-4f9c-da12-98e1eb496f2f",
        "colab": {
          "base_uri": "https://localhost:8080/"
        }
      },
      "execution_count": 81,
      "outputs": [
        {
          "output_type": "stream",
          "name": "stdout",
          "text": [
            "[False  True False  True]\n",
            "(array([1, 3]),)\n",
            "Row numbers with elements larger than 6 : (array([1, 3]),)\n"
          ]
        }
      ]
    },
    {
      "cell_type": "markdown",
      "source": [
        "### `Q-6:` How to convert an array of arrays into a flat 1d array?\n"
      ],
      "metadata": {
        "id": "DSCQMo4mlnDG"
      }
    },
    {
      "cell_type": "code",
      "source": [
        "arr = np.array([[1,2,3,4,5],\n",
        "                [10,-3,30,4,5],\n",
        "                [3,2,5,-4,5],\n",
        "                [9,7,3,6,5]])\n",
        "\n",
        "arr.ravel()"
      ],
      "metadata": {
        "id": "f42OXNrFls0I",
        "outputId": "a3874978-7628-4787-92ec-952a8b608739",
        "colab": {
          "base_uri": "https://localhost:8080/"
        }
      },
      "execution_count": 85,
      "outputs": [
        {
          "output_type": "execute_result",
          "data": {
            "text/plain": [
              "array([ 1,  2,  3,  4,  5, 10, -3, 30,  4,  5,  3,  2,  5, -4,  5,  9,  7,\n",
              "        3,  6,  5])"
            ]
          },
          "metadata": {},
          "execution_count": 85
        }
      ]
    },
    {
      "cell_type": "code",
      "source": [
        "arr = np.array([[1,2,3,4,5],\n",
        "                [10,-3,30,4,5],\n",
        "                [3,2,5,-4,5],\n",
        "                [9,7,3,6,5]])\n",
        "\n",
        "arr.flatten()"
      ],
      "metadata": {
        "id": "O_46TxURDg4v",
        "outputId": "8b3f7c06-ffe6-4c44-c2e7-93e5d771a317",
        "colab": {
          "base_uri": "https://localhost:8080/"
        }
      },
      "execution_count": 86,
      "outputs": [
        {
          "output_type": "execute_result",
          "data": {
            "text/plain": [
              "array([ 1,  2,  3,  4,  5, 10, -3, 30,  4,  5,  3,  2,  5, -4,  5,  9,  7,\n",
              "        3,  6,  5])"
            ]
          },
          "metadata": {},
          "execution_count": 86
        }
      ]
    },
    {
      "cell_type": "markdown",
      "source": [
        "### `Q-7:` You are given a array. You have to find the minimum and maximum array element and remove that from the array.\n",
        "\n",
        "```python\n",
        "import numpy as np\n",
        "\n",
        "np.random.seed(400)\n",
        "arr = np.random.randint(100, 1000, 200).reshape((1, 200))\n",
        "```"
      ],
      "metadata": {
        "id": "A1J4oOVCluqO"
      }
    },
    {
      "cell_type": "code",
      "source": [
        "arr = np.array([4, 2, 7, 1, 5, 9, 2, 6, 5, 3, 5])\n",
        "\n",
        "min_index = np.argmin(arr)\n",
        "max_index = np.argmax(arr)\n",
        "\n",
        "min_element = arr[min_index]\n",
        "max_element = arr[max_index]\n",
        "\n",
        "arr_without_min_max = np.delete(arr, [min_index, max_index])\n",
        "\n",
        "print(\"Original Array:\")\n",
        "print(arr)\n",
        "\n",
        "print(\"\\nMinimum Element:\", min_element)\n",
        "print(\"Maximum Element:\", max_element)\n",
        "\n",
        "print(\"\\nArray without Minimum and Maximum Elements:\")\n",
        "print(arr_without_min_max)"
      ],
      "metadata": {
        "id": "c6kmgtUJlybZ",
        "outputId": "ee6a7c56-a8bd-42fd-f044-dd838ccb5aa4",
        "colab": {
          "base_uri": "https://localhost:8080/"
        }
      },
      "execution_count": 88,
      "outputs": [
        {
          "output_type": "stream",
          "name": "stdout",
          "text": [
            "Original Array:\n",
            "[4 2 7 1 5 9 2 6 5 3 5]\n",
            "\n",
            "Minimum Element: 1\n",
            "Maximum Element: 9\n",
            "\n",
            "Array without Minimum and Maximum Elements:\n",
            "[4 2 7 5 2 6 5 3 5]\n"
          ]
        }
      ]
    },
    {
      "cell_type": "markdown",
      "source": [
        "### `Q-8:` You are given an arrays. You have to limit this array's elements between 100 to 200. $arr ∈ [100, 700]$. So replace those values accordingly with the minimum and maximum value. Then sort the array and perform the cumulative sum of that array."
      ],
      "metadata": {
        "id": "0dHN1sdnl0Jy"
      }
    },
    {
      "cell_type": "code",
      "source": [
        "arr = np.array([ 76, 633, 293, 574,  22, 420, 126, 423, 251, 200, 205, 520, 389,\n",
        "       445, 312, 251, 579, 439, 642, 131])\n",
        "\n",
        "arr1 = np.clip(arr, a_min=100, a_max=200)\n",
        "arr2 = np.sort(arr1)\n",
        "arr3 = np.cumsum(arr2)\n",
        "\n",
        "print(\"Original Array:\")\n",
        "print(arr)\n",
        "\n",
        "print(\"\\nSorted Array:\")\n",
        "print(arr2)\n",
        "\n",
        "print(\"\\nCumulative Sum of the Sorted Array:\")\n",
        "print(arr3)"
      ],
      "metadata": {
        "id": "a3YF_E-Hlza7",
        "outputId": "4246af68-c270-4035-a56d-a5159fa5a17e",
        "colab": {
          "base_uri": "https://localhost:8080/"
        }
      },
      "execution_count": 101,
      "outputs": [
        {
          "output_type": "stream",
          "name": "stdout",
          "text": [
            "Original Array:\n",
            "[ 76 633 293 574  22 420 126 423 251 200 205 520 389 445 312 251 579 439\n",
            " 642 131]\n",
            "\n",
            "Sorted Array:\n",
            "[100 100 126 131 200 200 200 200 200 200 200 200 200 200 200 200 200 200\n",
            " 200 200]\n",
            "\n",
            "Cumulative Sum of the Sorted Array:\n",
            "[ 100  200  326  457  657  857 1057 1257 1457 1657 1857 2057 2257 2457\n",
            " 2657 2857 3057 3257 3457 3657]\n"
          ]
        }
      ]
    },
    {
      "cell_type": "markdown",
      "source": [
        "### `Q-9:` You are given a array ($arr ∈ [0, 1]$). First you have round off the elements upto 3 decimal places and compare that\n",
        "- 0th percentile == minimum value of the array\n",
        "- 100th percentile == maximum value of the array\n",
        "- also find the difference betwen 51th percenile and 50th percentile values"
      ],
      "metadata": {
        "id": "cXj90Susl4-I"
      }
    },
    {
      "cell_type": "code",
      "source": [
        "arr = np.random.random(10)\n",
        "\n",
        "arr_rounded = np.round(arr, 3)\n",
        "\n",
        "\n",
        "min_value = np.percentile(arr_rounded, 0)\n",
        "max_value = np.percentile(arr_rounded, 100)\n",
        "\n",
        "percentile_50 = np.percentile(arr_rounded, 50)\n",
        "percentile_51 = np.percentile(arr_rounded, 51)\n",
        "difference_51_50 = percentile_51 - percentile_50\n",
        "\n",
        "print(\"Original Array:\")\n",
        "print(arr)\n",
        "\n",
        "print(\"\\nArray Rounded to 3 Decimal Places:\")\n",
        "print(arr_rounded)\n",
        "\n",
        "print(\"\\nMinimum Value (0th Percentile):\", min_value)\n",
        "print(\"Maximum Value (100th Percentile):\", max_value)\n",
        "\n",
        "print(\"\\n50th Percentile (Median):\", percentile_50)\n",
        "print(\"51st Percentile:\", percentile_51)\n",
        "print(\"Difference between 51st and 50th Percentiles:\", difference_51_50)"
      ],
      "metadata": {
        "id": "SgBEHodgl7Lo",
        "outputId": "4bf1bf7d-3ccb-4603-c81a-7aba617fc632",
        "colab": {
          "base_uri": "https://localhost:8080/"
        }
      },
      "execution_count": 110,
      "outputs": [
        {
          "output_type": "stream",
          "name": "stdout",
          "text": [
            "Original Array:\n",
            "[0.51698047 0.83896132 0.99258315 0.46137065 0.72554258 0.59741372\n",
            " 0.84937403 0.70333066 0.57544915 0.03086726]\n",
            "\n",
            "Array Rounded to 3 Decimal Places:\n",
            "[0.517 0.839 0.993 0.461 0.726 0.597 0.849 0.703 0.575 0.031]\n",
            "\n",
            "Minimum Value (0th Percentile): 0.031\n",
            "Maximum Value (100th Percentile): 0.993\n",
            "\n",
            "50th Percentile (Median): 0.6499999999999999\n",
            "51st Percentile: 0.6595399999999999\n",
            "Difference between 51st and 50th Percentiles: 0.009539999999999993\n"
          ]
        }
      ]
    }
  ]
}